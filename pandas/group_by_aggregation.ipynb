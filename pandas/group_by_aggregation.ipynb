{
 "cells": [
  {
   "cell_type": "markdown",
   "id": "f8bc955e",
   "metadata": {},
   "source": [
    "Group BY"
   ]
  },
  {
   "cell_type": "code",
   "execution_count": 1,
   "id": "e38c6e7c",
   "metadata": {},
   "outputs": [
    {
     "data": {
      "text/html": [
       "<div>\n",
       "<style scoped>\n",
       "    .dataframe tbody tr th:only-of-type {\n",
       "        vertical-align: middle;\n",
       "    }\n",
       "\n",
       "    .dataframe tbody tr th {\n",
       "        vertical-align: top;\n",
       "    }\n",
       "\n",
       "    .dataframe thead th {\n",
       "        text-align: right;\n",
       "    }\n",
       "</style>\n",
       "<table border=\"1\" class=\"dataframe\">\n",
       "  <thead>\n",
       "    <tr style=\"text-align: right;\">\n",
       "      <th></th>\n",
       "      <th>Category</th>\n",
       "      <th>Store</th>\n",
       "      <th>Sales</th>\n",
       "      <th>Quantity</th>\n",
       "      <th>Date</th>\n",
       "    </tr>\n",
       "  </thead>\n",
       "  <tbody>\n",
       "    <tr>\n",
       "      <th>0</th>\n",
       "      <td>A</td>\n",
       "      <td>S1</td>\n",
       "      <td>1200.50</td>\n",
       "      <td>10</td>\n",
       "      <td>2025-05-01</td>\n",
       "    </tr>\n",
       "    <tr>\n",
       "      <th>1</th>\n",
       "      <td>B</td>\n",
       "      <td>S2</td>\n",
       "      <td>1100.75</td>\n",
       "      <td>8</td>\n",
       "      <td>2025-05-02</td>\n",
       "    </tr>\n",
       "    <tr>\n",
       "      <th>2</th>\n",
       "      <td>C</td>\n",
       "      <td>S3</td>\n",
       "      <td>950.00</td>\n",
       "      <td>12</td>\n",
       "      <td>2025-05-03</td>\n",
       "    </tr>\n",
       "    <tr>\n",
       "      <th>3</th>\n",
       "      <td>A</td>\n",
       "      <td>S3</td>\n",
       "      <td>1430.25</td>\n",
       "      <td>7</td>\n",
       "      <td>2025-05-04</td>\n",
       "    </tr>\n",
       "    <tr>\n",
       "      <th>4</th>\n",
       "      <td>B</td>\n",
       "      <td>S1</td>\n",
       "      <td>1250.00</td>\n",
       "      <td>9</td>\n",
       "      <td>2025-05-05</td>\n",
       "    </tr>\n",
       "    <tr>\n",
       "      <th>5</th>\n",
       "      <td>C</td>\n",
       "      <td>S2</td>\n",
       "      <td>1600.00</td>\n",
       "      <td>8</td>\n",
       "      <td>2025-05-06</td>\n",
       "    </tr>\n",
       "    <tr>\n",
       "      <th>6</th>\n",
       "      <td>A</td>\n",
       "      <td>S2</td>\n",
       "      <td>1100.50</td>\n",
       "      <td>15</td>\n",
       "      <td>2025-05-07</td>\n",
       "    </tr>\n",
       "    <tr>\n",
       "      <th>7</th>\n",
       "      <td>B</td>\n",
       "      <td>S3</td>\n",
       "      <td>1340.75</td>\n",
       "      <td>6</td>\n",
       "      <td>2025-05-08</td>\n",
       "    </tr>\n",
       "    <tr>\n",
       "      <th>8</th>\n",
       "      <td>C</td>\n",
       "      <td>S1</td>\n",
       "      <td>950.25</td>\n",
       "      <td>10</td>\n",
       "      <td>2025-05-09</td>\n",
       "    </tr>\n",
       "    <tr>\n",
       "      <th>9</th>\n",
       "      <td>A</td>\n",
       "      <td>S1</td>\n",
       "      <td>1230.00</td>\n",
       "      <td>13</td>\n",
       "      <td>2025-05-10</td>\n",
       "    </tr>\n",
       "    <tr>\n",
       "      <th>10</th>\n",
       "      <td>B</td>\n",
       "      <td>S2</td>\n",
       "      <td>1450.00</td>\n",
       "      <td>11</td>\n",
       "      <td>2025-05-11</td>\n",
       "    </tr>\n",
       "    <tr>\n",
       "      <th>11</th>\n",
       "      <td>C</td>\n",
       "      <td>S3</td>\n",
       "      <td>1075.50</td>\n",
       "      <td>14</td>\n",
       "      <td>2025-05-12</td>\n",
       "    </tr>\n",
       "    <tr>\n",
       "      <th>12</th>\n",
       "      <td>A</td>\n",
       "      <td>S3</td>\n",
       "      <td>990.25</td>\n",
       "      <td>7</td>\n",
       "      <td>2025-05-13</td>\n",
       "    </tr>\n",
       "    <tr>\n",
       "      <th>13</th>\n",
       "      <td>B</td>\n",
       "      <td>S1</td>\n",
       "      <td>1150.00</td>\n",
       "      <td>5</td>\n",
       "      <td>2025-05-14</td>\n",
       "    </tr>\n",
       "    <tr>\n",
       "      <th>14</th>\n",
       "      <td>C</td>\n",
       "      <td>S2</td>\n",
       "      <td>1300.75</td>\n",
       "      <td>9</td>\n",
       "      <td>2025-05-15</td>\n",
       "    </tr>\n",
       "  </tbody>\n",
       "</table>\n",
       "</div>"
      ],
      "text/plain": [
       "   Category Store    Sales  Quantity        Date\n",
       "0         A    S1  1200.50        10  2025-05-01\n",
       "1         B    S2  1100.75         8  2025-05-02\n",
       "2         C    S3   950.00        12  2025-05-03\n",
       "3         A    S3  1430.25         7  2025-05-04\n",
       "4         B    S1  1250.00         9  2025-05-05\n",
       "5         C    S2  1600.00         8  2025-05-06\n",
       "6         A    S2  1100.50        15  2025-05-07\n",
       "7         B    S3  1340.75         6  2025-05-08\n",
       "8         C    S1   950.25        10  2025-05-09\n",
       "9         A    S1  1230.00        13  2025-05-10\n",
       "10        B    S2  1450.00        11  2025-05-11\n",
       "11        C    S3  1075.50        14  2025-05-12\n",
       "12        A    S3   990.25         7  2025-05-13\n",
       "13        B    S1  1150.00         5  2025-05-14\n",
       "14        C    S2  1300.75         9  2025-05-15"
      ]
     },
     "execution_count": 1,
     "metadata": {},
     "output_type": "execute_result"
    }
   ],
   "source": [
    "import pandas as pd\n",
    "\n",
    "data = [\n",
    "    [\"A\", \"S1\", 1200.50, 10, \"2025-05-01\"],\n",
    "    [\"B\", \"S2\", 1100.75, 8,  \"2025-05-02\"],\n",
    "    [\"C\", \"S3\", 950.00,  12, \"2025-05-03\"],\n",
    "    [\"A\", \"S3\", 1430.25, 7,  \"2025-05-04\"],\n",
    "    [\"B\", \"S1\", 1250.00, 9,  \"2025-05-05\"],\n",
    "    [\"C\", \"S2\", 1600.00, 8,  \"2025-05-06\"],\n",
    "    [\"A\", \"S2\", 1100.50, 15, \"2025-05-07\"],\n",
    "    [\"B\", \"S3\", 1340.75, 6,  \"2025-05-08\"],\n",
    "    [\"C\", \"S1\", 950.25,  10, \"2025-05-09\"],\n",
    "    [\"A\", \"S1\", 1230.00, 13, \"2025-05-10\"],\n",
    "    [\"B\", \"S2\", 1450.00, 11, \"2025-05-11\"],\n",
    "    [\"C\", \"S3\", 1075.50, 14, \"2025-05-12\"],\n",
    "    [\"A\", \"S3\", 990.25,  7,  \"2025-05-13\"],\n",
    "    [\"B\", \"S1\", 1150.00, 5,  \"2025-05-14\"],\n",
    "    [\"C\", \"S2\", 1300.75, 9,  \"2025-05-15\"],\n",
    "]\n",
    "\n",
    "df = pd.DataFrame(data, columns=[\"Category\", \"Store\", \"Sales\", \"Quantity\", \"Date\"])\n",
    "\n",
    "df\n"
   ]
  },
  {
   "cell_type": "code",
   "execution_count": 9,
   "id": "086a3a8f",
   "metadata": {},
   "outputs": [
    {
     "data": {
      "text/plain": [
       "Category\n",
       "A    5951.5\n",
       "B    6291.5\n",
       "C    5876.5\n",
       "Name: Sales, dtype: float64"
      ]
     },
     "execution_count": 9,
     "metadata": {},
     "output_type": "execute_result"
    }
   ],
   "source": [
    "cat = df.groupby(\"Category\")[\"Sales\"].sum()\n",
    "cat"
   ]
  },
  {
   "cell_type": "code",
   "execution_count": 11,
   "id": "f4d66f7a",
   "metadata": {},
   "outputs": [
    {
     "data": {
      "text/plain": [
       "Store\n",
       "S1    5780.75\n",
       "S2    6552.00\n",
       "S3    5786.75\n",
       "Name: Sales, dtype: float64"
      ]
     },
     "execution_count": 11,
     "metadata": {},
     "output_type": "execute_result"
    }
   ],
   "source": [
    "df.groupby(\"Store\")[\"Sales\"].sum()"
   ]
  },
  {
   "cell_type": "code",
   "execution_count": 13,
   "id": "7cf44bc7",
   "metadata": {},
   "outputs": [
    {
     "data": {
      "text/plain": [
       "Store  Category\n",
       "S1     A           2430.50\n",
       "       B           2400.00\n",
       "       C            950.25\n",
       "S2     A           1100.50\n",
       "       B           2550.75\n",
       "       C           2900.75\n",
       "S3     A           2420.50\n",
       "       B           1340.75\n",
       "       C           2025.50\n",
       "Name: Sales, dtype: float64"
      ]
     },
     "execution_count": 13,
     "metadata": {},
     "output_type": "execute_result"
    }
   ],
   "source": [
    "df.groupby([\"Store\",\"Category\"])[\"Sales\"].sum()\n"
   ]
  },
  {
   "cell_type": "markdown",
   "id": "b6d1a6ac",
   "metadata": {},
   "source": [
    "Aggregation"
   ]
  },
  {
   "cell_type": "code",
   "execution_count": 14,
   "id": "47c3f30c",
   "metadata": {},
   "outputs": [
    {
     "data": {
      "text/plain": [
       "np.float64(1207.9666666666667)"
      ]
     },
     "execution_count": 14,
     "metadata": {},
     "output_type": "execute_result"
    }
   ],
   "source": [
    "df['Sales'].mean()"
   ]
  },
  {
   "cell_type": "code",
   "execution_count": 15,
   "id": "32be1c22",
   "metadata": {},
   "outputs": [
    {
     "data": {
      "text/plain": [
       "np.float64(191.71139177966248)"
      ]
     },
     "execution_count": 15,
     "metadata": {},
     "output_type": "execute_result"
    }
   ],
   "source": [
    "df['Sales'].std()"
   ]
  },
  {
   "cell_type": "code",
   "execution_count": 20,
   "id": "2d96d075",
   "metadata": {},
   "outputs": [
    {
     "data": {
      "text/plain": [
       "sum     18119.500000\n",
       "mean     1207.966667\n",
       "min       950.000000\n",
       "max      1600.000000\n",
       "Name: Sales, dtype: float64"
      ]
     },
     "execution_count": 20,
     "metadata": {},
     "output_type": "execute_result"
    }
   ],
   "source": [
    "df[\"Sales\"].agg([\"sum\", \"mean\", \"min\", \"max\"])\n"
   ]
  },
  {
   "cell_type": "code",
   "execution_count": 22,
   "id": "d44dad94",
   "metadata": {},
   "outputs": [
    {
     "data": {
      "text/plain": [
       "sum       18119.500000\n",
       "mean       1207.966667\n",
       "min         950.000000\n",
       "max        1600.000000\n",
       "count        15.000000\n",
       "std         191.711392\n",
       "var       36753.257738\n",
       "median     1200.500000\n",
       "Name: Sales, dtype: float64"
      ]
     },
     "execution_count": 22,
     "metadata": {},
     "output_type": "execute_result"
    }
   ],
   "source": [
    "df[\"Sales\"].agg([\n",
    "    \"sum\",\n",
    "    \"mean\",\n",
    "    \"min\",\n",
    "    \"max\",\n",
    "    \"count\",\n",
    "    \"std\",\n",
    "    \"var\",\n",
    "    \"median\",\n",
    "])"
   ]
  },
  {
   "cell_type": "code",
   "execution_count": null,
   "id": "53a52227",
   "metadata": {},
   "outputs": [],
   "source": []
  }
 ],
 "metadata": {
  "kernelspec": {
   "display_name": "base",
   "language": "python",
   "name": "python3"
  },
  "language_info": {
   "codemirror_mode": {
    "name": "ipython",
    "version": 3
   },
   "file_extension": ".py",
   "mimetype": "text/x-python",
   "name": "python",
   "nbconvert_exporter": "python",
   "pygments_lexer": "ipython3",
   "version": "3.13.2"
  }
 },
 "nbformat": 4,
 "nbformat_minor": 5
}
