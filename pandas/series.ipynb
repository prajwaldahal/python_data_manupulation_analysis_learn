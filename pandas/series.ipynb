{
 "cells": [
  {
   "cell_type": "code",
   "execution_count": 1,
   "id": "ab991f82",
   "metadata": {},
   "outputs": [
    {
     "name": "stdout",
     "output_type": "stream",
     "text": [
      "Collecting pandas\n",
      "  Downloading pandas-2.2.3-cp313-cp313-win_amd64.whl.metadata (19 kB)\n",
      "Requirement already satisfied: numpy>=1.26.0 in c:\\users\\prajw\\miniconda\\lib\\site-packages (from pandas) (2.2.6)\n",
      "Requirement already satisfied: python-dateutil>=2.8.2 in c:\\users\\prajw\\appdata\\roaming\\python\\python313\\site-packages (from pandas) (2.9.0.post0)\n",
      "Requirement already satisfied: pytz>=2020.1 in c:\\users\\prajw\\miniconda\\lib\\site-packages (from pandas) (2024.1)\n",
      "Collecting tzdata>=2022.7 (from pandas)\n",
      "  Downloading tzdata-2025.2-py2.py3-none-any.whl.metadata (1.4 kB)\n",
      "Requirement already satisfied: six>=1.5 in c:\\users\\prajw\\appdata\\roaming\\python\\python313\\site-packages (from python-dateutil>=2.8.2->pandas) (1.17.0)\n",
      "Downloading pandas-2.2.3-cp313-cp313-win_amd64.whl (11.5 MB)\n",
      "   ---------------------------------------- 0.0/11.5 MB ? eta -:--:--\n",
      "   - -------------------------------------- 0.5/11.5 MB 5.1 MB/s eta 0:00:03\n",
      "   ------ --------------------------------- 1.8/11.5 MB 6.1 MB/s eta 0:00:02\n",
      "   ---------- ----------------------------- 3.1/11.5 MB 6.3 MB/s eta 0:00:02\n",
      "   --------------- ------------------------ 4.5/11.5 MB 6.1 MB/s eta 0:00:02\n",
      "   -------------------- ------------------- 5.8/11.5 MB 6.2 MB/s eta 0:00:01\n",
      "   ------------------------- -------------- 7.3/11.5 MB 6.3 MB/s eta 0:00:01\n",
      "   ------------------------------ --------- 8.7/11.5 MB 6.2 MB/s eta 0:00:01\n",
      "   --------------------------------- ------ 9.7/11.5 MB 6.2 MB/s eta 0:00:01\n",
      "   -------------------------------------- - 11.0/11.5 MB 6.1 MB/s eta 0:00:01\n",
      "   ---------------------------------------  11.3/11.5 MB 6.1 MB/s eta 0:00:01\n",
      "   ---------------------------------------  11.3/11.5 MB 6.1 MB/s eta 0:00:01\n",
      "   ---------------------------------------- 11.5/11.5 MB 3.7 MB/s eta 0:00:00\n",
      "Downloading tzdata-2025.2-py2.py3-none-any.whl (347 kB)\n",
      "Installing collected packages: tzdata, pandas\n",
      "Successfully installed pandas-2.2.3 tzdata-2025.2\n"
     ]
    }
   ],
   "source": [
    "!pip install pandas"
   ]
  },
  {
   "cell_type": "code",
   "execution_count": 3,
   "id": "0df93f07",
   "metadata": {},
   "outputs": [],
   "source": [
    "import numpy as np\n",
    "import pandas as pd"
   ]
  },
  {
   "cell_type": "markdown",
   "id": "6e1a2bd4",
   "metadata": {},
   "source": [
    "CREATING"
   ]
  },
  {
   "cell_type": "code",
   "execution_count": 9,
   "id": "91850f76",
   "metadata": {},
   "outputs": [],
   "source": [
    "labels=[\"a\",\"b\",\"C\"]\n",
    "my_list=[10,20,30]\n",
    "arr=np.array([40,5,0,60])\n",
    "d={'first':10,'second':30,4:50}\n"
   ]
  },
  {
   "cell_type": "code",
   "execution_count": 5,
   "id": "12630610",
   "metadata": {},
   "outputs": [
    {
     "data": {
      "text/plain": [
       "0    10\n",
       "1    20\n",
       "2    30\n",
       "dtype: int64"
      ]
     },
     "execution_count": 5,
     "metadata": {},
     "output_type": "execute_result"
    }
   ],
   "source": [
    "pd.Series(my_list)"
   ]
  },
  {
   "cell_type": "code",
   "execution_count": 7,
   "id": "d123be2b",
   "metadata": {},
   "outputs": [
    {
     "data": {
      "text/plain": [
       "a    10\n",
       "b    20\n",
       "C    30\n",
       "dtype: int64"
      ]
     },
     "execution_count": 7,
     "metadata": {},
     "output_type": "execute_result"
    }
   ],
   "source": [
    "pd.Series(my_list,labels)"
   ]
  },
  {
   "cell_type": "code",
   "execution_count": 10,
   "id": "c4ed3b50",
   "metadata": {},
   "outputs": [
    {
     "data": {
      "text/plain": [
       "first     10\n",
       "second    30\n",
       "4         50\n",
       "dtype: int64"
      ]
     },
     "execution_count": 10,
     "metadata": {},
     "output_type": "execute_result"
    }
   ],
   "source": [
    "pd.Series(d)"
   ]
  },
  {
   "cell_type": "code",
   "execution_count": 11,
   "id": "e98b36d3",
   "metadata": {},
   "outputs": [
    {
     "data": {
      "text/plain": [
       "0    40\n",
       "1     5\n",
       "2     0\n",
       "3    60\n",
       "dtype: int64"
      ]
     },
     "execution_count": 11,
     "metadata": {},
     "output_type": "execute_result"
    }
   ],
   "source": [
    "pd.Series(arr)"
   ]
  },
  {
   "cell_type": "code",
   "execution_count": null,
   "id": "8bc49d77",
   "metadata": {},
   "outputs": [],
   "source": []
  }
 ],
 "metadata": {
  "kernelspec": {
   "display_name": "base",
   "language": "python",
   "name": "python3"
  },
  "language_info": {
   "codemirror_mode": {
    "name": "ipython",
    "version": 3
   },
   "file_extension": ".py",
   "mimetype": "text/x-python",
   "name": "python",
   "nbconvert_exporter": "python",
   "pygments_lexer": "ipython3",
   "version": "3.13.2"
  }
 },
 "nbformat": 4,
 "nbformat_minor": 5
}
