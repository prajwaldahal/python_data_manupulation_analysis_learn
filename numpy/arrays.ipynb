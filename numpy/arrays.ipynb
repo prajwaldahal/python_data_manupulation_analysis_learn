{
 "cells": [
  {
   "cell_type": "code",
   "execution_count": 2,
   "id": "0b08b66c",
   "metadata": {},
   "outputs": [
    {
     "data": {
      "text/plain": [
       "array([1, 2, 3, 4, 5, 6, 7, 8])"
      ]
     },
     "execution_count": 2,
     "metadata": {},
     "output_type": "execute_result"
    }
   ],
   "source": [
    "import numpy as np\n",
    "arr=np.array([1,2,3,4,5,6,7,8])\n",
    "arr"
   ]
  },
  {
   "cell_type": "code",
   "execution_count": 5,
   "id": "809ccbe0",
   "metadata": {},
   "outputs": [
    {
     "data": {
      "text/plain": [
       "[[1, 2, 3], [4, 5, 6], [7, 8, 9]]"
      ]
     },
     "execution_count": 5,
     "metadata": {},
     "output_type": "execute_result"
    }
   ],
   "source": [
    "l=[[1,2,3],[4,5,6],[7,8,9]]\n",
    "l"
   ]
  },
  {
   "cell_type": "code",
   "execution_count": 7,
   "id": "02210a17",
   "metadata": {},
   "outputs": [
    {
     "data": {
      "text/plain": [
       "array([[1, 2, 3],\n",
       "       [4, 5, 6],\n",
       "       [7, 8, 9]])"
      ]
     },
     "execution_count": 7,
     "metadata": {},
     "output_type": "execute_result"
    }
   ],
   "source": [
    "arr=np.array(l)\n",
    "arr"
   ]
  },
  {
   "cell_type": "code",
   "execution_count": 9,
   "id": "e079d479",
   "metadata": {},
   "outputs": [
    {
     "data": {
      "text/plain": [
       "array([0., 0., 0., 0., 0., 0.])"
      ]
     },
     "execution_count": 9,
     "metadata": {},
     "output_type": "execute_result"
    }
   ],
   "source": [
    "arr=np.zeros(6)\n",
    "arr"
   ]
  },
  {
   "cell_type": "code",
   "execution_count": 12,
   "id": "03e5d5b0",
   "metadata": {},
   "outputs": [
    {
     "data": {
      "text/plain": [
       "array([[0., 0., 0., 0., 0., 0., 0., 0.],\n",
       "       [0., 0., 0., 0., 0., 0., 0., 0.],\n",
       "       [0., 0., 0., 0., 0., 0., 0., 0.],\n",
       "       [0., 0., 0., 0., 0., 0., 0., 0.],\n",
       "       [0., 0., 0., 0., 0., 0., 0., 0.],\n",
       "       [0., 0., 0., 0., 0., 0., 0., 0.]])"
      ]
     },
     "execution_count": 12,
     "metadata": {},
     "output_type": "execute_result"
    }
   ],
   "source": [
    "arr=np.zeros((6,8))\n",
    "arr"
   ]
  },
  {
   "cell_type": "code",
   "execution_count": 17,
   "id": "7a95be74",
   "metadata": {},
   "outputs": [
    {
     "data": {
      "text/plain": [
       "array([  2,   4,   6,   8,  10,  12,  14,  16,  18,  20,  22,  24,  26,\n",
       "        28,  30,  32,  34,  36,  38,  40,  42,  44,  46,  48,  50,  52,\n",
       "        54,  56,  58,  60,  62,  64,  66,  68,  70,  72,  74,  76,  78,\n",
       "        80,  82,  84,  86,  88,  90,  92,  94,  96,  98, 100])"
      ]
     },
     "execution_count": 17,
     "metadata": {},
     "output_type": "execute_result"
    }
   ],
   "source": [
    "arr=np.arange(2,101,2)\n",
    "arr"
   ]
  },
  {
   "cell_type": "code",
   "execution_count": 21,
   "id": "8cc810c4",
   "metadata": {},
   "outputs": [
    {
     "data": {
      "text/plain": [
       "array([ 2.        ,  2.08080808,  2.16161616,  2.24242424,  2.32323232,\n",
       "        2.4040404 ,  2.48484848,  2.56565657,  2.64646465,  2.72727273,\n",
       "        2.80808081,  2.88888889,  2.96969697,  3.05050505,  3.13131313,\n",
       "        3.21212121,  3.29292929,  3.37373737,  3.45454545,  3.53535354,\n",
       "        3.61616162,  3.6969697 ,  3.77777778,  3.85858586,  3.93939394,\n",
       "        4.02020202,  4.1010101 ,  4.18181818,  4.26262626,  4.34343434,\n",
       "        4.42424242,  4.50505051,  4.58585859,  4.66666667,  4.74747475,\n",
       "        4.82828283,  4.90909091,  4.98989899,  5.07070707,  5.15151515,\n",
       "        5.23232323,  5.31313131,  5.39393939,  5.47474747,  5.55555556,\n",
       "        5.63636364,  5.71717172,  5.7979798 ,  5.87878788,  5.95959596,\n",
       "        6.04040404,  6.12121212,  6.2020202 ,  6.28282828,  6.36363636,\n",
       "        6.44444444,  6.52525253,  6.60606061,  6.68686869,  6.76767677,\n",
       "        6.84848485,  6.92929293,  7.01010101,  7.09090909,  7.17171717,\n",
       "        7.25252525,  7.33333333,  7.41414141,  7.49494949,  7.57575758,\n",
       "        7.65656566,  7.73737374,  7.81818182,  7.8989899 ,  7.97979798,\n",
       "        8.06060606,  8.14141414,  8.22222222,  8.3030303 ,  8.38383838,\n",
       "        8.46464646,  8.54545455,  8.62626263,  8.70707071,  8.78787879,\n",
       "        8.86868687,  8.94949495,  9.03030303,  9.11111111,  9.19191919,\n",
       "        9.27272727,  9.35353535,  9.43434343,  9.51515152,  9.5959596 ,\n",
       "        9.67676768,  9.75757576,  9.83838384,  9.91919192, 10.        ])"
      ]
     },
     "execution_count": 21,
     "metadata": {},
     "output_type": "execute_result"
    }
   ],
   "source": [
    "arr=np.linspace(2,10,100)\n",
    "arr"
   ]
  },
  {
   "cell_type": "code",
   "execution_count": 4,
   "id": "010335b2",
   "metadata": {},
   "outputs": [
    {
     "data": {
      "text/plain": [
       "array([[0.16914834, 0.15514063, 0.28798085, 0.98050916, 0.18344032,\n",
       "        0.35991601, 0.84080102, 0.54016152, 0.73844912, 0.68727513],\n",
       "       [0.26592866, 0.12527957, 0.49894533, 0.81115322, 0.49515604,\n",
       "        0.7119657 , 0.94315889, 0.72652826, 0.39863224, 0.05645518],\n",
       "       [0.07706412, 0.2714047 , 0.71540979, 0.37456761, 0.88093577,\n",
       "        0.54223517, 0.84967169, 0.79447709, 0.95330282, 0.72947589],\n",
       "       [0.4488378 , 0.08444401, 0.27586512, 0.97730816, 0.06220378,\n",
       "        0.21185335, 0.01608183, 0.76721124, 0.39093088, 0.57972236],\n",
       "       [0.48324316, 0.99294818, 0.61974936, 0.66888247, 0.2552765 ,\n",
       "        0.13427036, 0.89496037, 0.53671321, 0.14540485, 0.88234155]])"
      ]
     },
     "execution_count": 4,
     "metadata": {},
     "output_type": "execute_result"
    }
   ],
   "source": [
    "arr=np.random.rand(5,10)\n",
    "arr\n"
   ]
  },
  {
   "cell_type": "code",
   "execution_count": 19,
   "id": "154e1f15",
   "metadata": {},
   "outputs": [
    {
     "data": {
      "text/plain": [
       "array([1.60884345, 0.48445613, 0.71898022, 1.27908722])"
      ]
     },
     "execution_count": 19,
     "metadata": {},
     "output_type": "execute_result"
    }
   ],
   "source": [
    "np.random.randn(4)"
   ]
  },
  {
   "cell_type": "code",
   "execution_count": 27,
   "id": "d022f351",
   "metadata": {},
   "outputs": [
    {
     "data": {
      "text/plain": [
       "array([748, 861, 137, 388, 319, 854, 972, 711, 129, 790,  96, 612, 292,\n",
       "       687, 225, 894, 456, 535, 281, 797, 779, 125, 499, 902, 416, 991,\n",
       "        63, 507, 735, 642, 355, 349, 995, 991, 868,  85, 403, 998, 342,\n",
       "       333], dtype=int32)"
      ]
     },
     "execution_count": 27,
     "metadata": {},
     "output_type": "execute_result"
    }
   ],
   "source": [
    "np.random.randint(6,1000,40)"
   ]
  },
  {
   "cell_type": "markdown",
   "id": "c05eea6f",
   "metadata": {},
   "source": [
    "Auto Matrix Creation\n"
   ]
  },
  {
   "cell_type": "code",
   "execution_count": 42,
   "id": "b2f86da6",
   "metadata": {},
   "outputs": [],
   "source": [
    "arr=np.arange(1, 13).reshape(3, 4)"
   ]
  },
  {
   "cell_type": "code",
   "execution_count": 45,
   "id": "71c92c0a",
   "metadata": {},
   "outputs": [
    {
     "data": {
      "text/plain": [
       "array([[99, 42,  6, 80],\n",
       "       [ 2, 22, 43, 49],\n",
       "       [39, 97, 61, 95],\n",
       "       [50, 71, 36, 45],\n",
       "       [ 4, 83,  3, 62],\n",
       "       [11, 96, 79,  7],\n",
       "       [60, 87, 70, 13],\n",
       "       [74,  9, 26,  6],\n",
       "       [88, 26, 85,  3],\n",
       "       [54, 25, 92, 39]], dtype=int32)"
      ]
     },
     "execution_count": 45,
     "metadata": {},
     "output_type": "execute_result"
    }
   ],
   "source": [
    "np.random.randint(2,100,40).reshape(10,4)"
   ]
  },
  {
   "cell_type": "code",
   "execution_count": 46,
   "id": "1fc7a207",
   "metadata": {},
   "outputs": [
    {
     "data": {
      "text/plain": [
       "array([[0.14631082, 0.19890182, 0.56049131, 0.19317365],\n",
       "       [0.15012654, 0.4024027 , 0.13042864, 0.64294831],\n",
       "       [0.31974017, 0.73989941, 0.12185665, 0.36452218]])"
      ]
     },
     "execution_count": 46,
     "metadata": {},
     "output_type": "execute_result"
    }
   ],
   "source": [
    "np.random.rand(3,4)"
   ]
  },
  {
   "cell_type": "code",
   "execution_count": 7,
   "id": "d589e381",
   "metadata": {},
   "outputs": [
    {
     "data": {
      "text/plain": [
       "array([[-0.17255637,  1.45614331, -0.43946354,  1.44359047,  0.23792802,\n",
       "         0.42580924, -0.37193127,  0.01391756, -1.37945408, -1.52813389],\n",
       "       [-0.07040466, -0.34116369, -0.91750452,  1.6618908 , -0.16623908,\n",
       "        -0.17460773,  0.17869808,  0.13496173,  2.61055711,  0.88365235],\n",
       "       [-2.03583268, -0.70132353, -0.31801424,  0.87121102, -0.1781533 ,\n",
       "        -0.4656244 ,  1.29269919, -1.42262309, -0.05238282, -1.35364177],\n",
       "       [-0.86938226,  0.29519726, -0.11544923,  0.49239585,  0.29809857,\n",
       "        -0.87340488,  0.77810989, -1.22839347, -0.79885478,  0.41848277],\n",
       "       [ 0.80974211,  2.66227065,  0.14742996,  0.63723521,  0.8973891 ,\n",
       "         1.71102955, -0.41466623,  2.82745831,  1.05808533, -0.03490849],\n",
       "       [-0.68417467,  0.44509807,  1.04776715,  0.08056792,  0.15761193,\n",
       "         0.10536088, -0.18396169, -1.33790302, -0.46580173, -2.06825407],\n",
       "       [ 0.69767153, -0.42236481,  0.83042496,  0.67918695, -0.03088536,\n",
       "        -1.00186023, -0.10186031, -1.5928411 ,  1.17476215, -1.16185042],\n",
       "       [ 3.44559612,  1.46193715,  0.80890415,  0.34079283, -0.74676397,\n",
       "         1.38532165,  0.72131693, -0.08146674, -0.83489742, -0.24560656],\n",
       "       [-0.22095421, -0.24257376,  0.20669906, -1.31519325, -1.63844724,\n",
       "        -0.77177794,  1.57958533, -0.62903778,  0.17296742,  0.33520016],\n",
       "       [ 2.34182382, -2.13150487, -1.11338088,  0.084261  , -0.53996618,\n",
       "        -0.91384764,  0.11529053,  0.21351398, -0.1847584 , -0.06483497]])"
      ]
     },
     "execution_count": 7,
     "metadata": {},
     "output_type": "execute_result"
    }
   ],
   "source": [
    "np.random.randn(10,10)"
   ]
  },
  {
   "cell_type": "code",
   "execution_count": 16,
   "id": "e3db813a",
   "metadata": {},
   "outputs": [
    {
     "data": {
      "text/plain": [
       "array([[-2.        , -1.95959596, -1.91919192, -1.87878788, -1.83838384,\n",
       "        -1.7979798 , -1.75757576, -1.71717172, -1.67676768, -1.63636364],\n",
       "       [-1.5959596 , -1.55555556, -1.51515152, -1.47474747, -1.43434343,\n",
       "        -1.39393939, -1.35353535, -1.31313131, -1.27272727, -1.23232323],\n",
       "       [-1.19191919, -1.15151515, -1.11111111, -1.07070707, -1.03030303,\n",
       "        -0.98989899, -0.94949495, -0.90909091, -0.86868687, -0.82828283],\n",
       "       [-0.78787879, -0.74747475, -0.70707071, -0.66666667, -0.62626263,\n",
       "        -0.58585859, -0.54545455, -0.50505051, -0.46464646, -0.42424242],\n",
       "       [-0.38383838, -0.34343434, -0.3030303 , -0.26262626, -0.22222222,\n",
       "        -0.18181818, -0.14141414, -0.1010101 , -0.06060606, -0.02020202],\n",
       "       [ 0.02020202,  0.06060606,  0.1010101 ,  0.14141414,  0.18181818,\n",
       "         0.22222222,  0.26262626,  0.3030303 ,  0.34343434,  0.38383838],\n",
       "       [ 0.42424242,  0.46464646,  0.50505051,  0.54545455,  0.58585859,\n",
       "         0.62626263,  0.66666667,  0.70707071,  0.74747475,  0.78787879],\n",
       "       [ 0.82828283,  0.86868687,  0.90909091,  0.94949495,  0.98989899,\n",
       "         1.03030303,  1.07070707,  1.11111111,  1.15151515,  1.19191919],\n",
       "       [ 1.23232323,  1.27272727,  1.31313131,  1.35353535,  1.39393939,\n",
       "         1.43434343,  1.47474747,  1.51515152,  1.55555556,  1.5959596 ],\n",
       "       [ 1.63636364,  1.67676768,  1.71717172,  1.75757576,  1.7979798 ,\n",
       "         1.83838384,  1.87878788,  1.91919192,  1.95959596,  2.        ]])"
      ]
     },
     "execution_count": 16,
     "metadata": {},
     "output_type": "execute_result"
    }
   ],
   "source": [
    "np.linspace(-2,2,100).reshape(10,10)\n"
   ]
  },
  {
   "cell_type": "code",
   "execution_count": 17,
   "id": "5f3f6887",
   "metadata": {},
   "outputs": [
    {
     "data": {
      "text/plain": [
       "array([[1., 0., 0., 0., 0., 0.],\n",
       "       [0., 1., 0., 0., 0., 0.],\n",
       "       [0., 0., 1., 0., 0., 0.],\n",
       "       [0., 0., 0., 1., 0., 0.],\n",
       "       [0., 0., 0., 0., 1., 0.],\n",
       "       [0., 0., 0., 0., 0., 1.]])"
      ]
     },
     "execution_count": 17,
     "metadata": {},
     "output_type": "execute_result"
    }
   ],
   "source": [
    "np.eye(6)"
   ]
  },
  {
   "cell_type": "code",
   "execution_count": 18,
   "id": "8e08dff0",
   "metadata": {},
   "outputs": [
    {
     "data": {
      "text/plain": [
       "array([[4, 4],\n",
       "       [4, 4],\n",
       "       [4, 4]])"
      ]
     },
     "execution_count": 18,
     "metadata": {},
     "output_type": "execute_result"
    }
   ],
   "source": [
    "np.full((3,2),4)"
   ]
  },
  {
   "cell_type": "code",
   "execution_count": 26,
   "id": "b1dcb4aa",
   "metadata": {},
   "outputs": [
    {
     "data": {
      "text/plain": [
       "array([[1., 1., 1.],\n",
       "       [1., 1., 1.]])"
      ]
     },
     "execution_count": 26,
     "metadata": {},
     "output_type": "execute_result"
    }
   ],
   "source": [
    "arr=np.ones((2,3))\n",
    "arr"
   ]
  },
  {
   "cell_type": "markdown",
   "id": "33acf4a0",
   "metadata": {},
   "source": [
    "METHODS AND PROPERTIES"
   ]
  },
  {
   "cell_type": "code",
   "execution_count": 24,
   "id": "fbddd77c",
   "metadata": {},
   "outputs": [
    {
     "data": {
      "text/plain": [
       "(8,)"
      ]
     },
     "execution_count": 24,
     "metadata": {},
     "output_type": "execute_result"
    }
   ],
   "source": [
    "arr.shape"
   ]
  },
  {
   "cell_type": "code",
   "execution_count": 27,
   "id": "ee8a5f8a",
   "metadata": {},
   "outputs": [
    {
     "data": {
      "text/plain": [
       "6"
      ]
     },
     "execution_count": 27,
     "metadata": {},
     "output_type": "execute_result"
    }
   ],
   "source": [
    "arr.size"
   ]
  },
  {
   "cell_type": "code",
   "execution_count": 28,
   "id": "1f9ef7f2",
   "metadata": {},
   "outputs": [
    {
     "data": {
      "text/plain": [
       "dtype('float64')"
      ]
     },
     "execution_count": 28,
     "metadata": {},
     "output_type": "execute_result"
    }
   ],
   "source": [
    "arr.dtype"
   ]
  },
  {
   "cell_type": "code",
   "execution_count": 30,
   "id": "6d40206b",
   "metadata": {},
   "outputs": [
    {
     "data": {
      "text/plain": [
       "'cpu'"
      ]
     },
     "execution_count": 30,
     "metadata": {},
     "output_type": "execute_result"
    }
   ],
   "source": [
    "arr.device"
   ]
  },
  {
   "cell_type": "code",
   "execution_count": 8,
   "id": "32341ad7",
   "metadata": {},
   "outputs": [
    {
     "data": {
      "text/plain": [
       "array([[ 4,  1,  7],\n",
       "       [ 2,  8,  2],\n",
       "       [12,  4, 11]], dtype=int32)"
      ]
     },
     "execution_count": 8,
     "metadata": {},
     "output_type": "execute_result"
    }
   ],
   "source": [
    "arr=np.random.randint(1,15,9).reshape(3,3)\n",
    "arr"
   ]
  },
  {
   "cell_type": "code",
   "execution_count": 39,
   "id": "02c8d6c0",
   "metadata": {},
   "outputs": [
    {
     "data": {
      "text/plain": [
       "np.int32(5)"
      ]
     },
     "execution_count": 39,
     "metadata": {},
     "output_type": "execute_result"
    }
   ],
   "source": [
    "arr.max()"
   ]
  },
  {
   "cell_type": "code",
   "execution_count": 40,
   "id": "1e185f41",
   "metadata": {},
   "outputs": [
    {
     "data": {
      "text/plain": [
       "np.int32(2)"
      ]
     },
     "execution_count": 40,
     "metadata": {},
     "output_type": "execute_result"
    }
   ],
   "source": [
    "arr.min()"
   ]
  },
  {
   "cell_type": "code",
   "execution_count": 41,
   "id": "ec2e7ebf",
   "metadata": {},
   "outputs": [
    {
     "data": {
      "text/plain": [
       "np.int64(24)"
      ]
     },
     "execution_count": 41,
     "metadata": {},
     "output_type": "execute_result"
    }
   ],
   "source": [
    "arr.sum()"
   ]
  },
  {
   "cell_type": "markdown",
   "id": "708a0edb",
   "metadata": {},
   "source": [
    "columnwise SUM"
   ]
  },
  {
   "cell_type": "code",
   "execution_count": 9,
   "id": "3d73dd03",
   "metadata": {},
   "outputs": [
    {
     "data": {
      "text/plain": [
       "array([18, 13, 20])"
      ]
     },
     "execution_count": 9,
     "metadata": {},
     "output_type": "execute_result"
    }
   ],
   "source": [
    "np.sum(arr,axis=0)"
   ]
  },
  {
   "cell_type": "markdown",
   "id": "aca01ea7",
   "metadata": {},
   "source": [
    "ROWWISE SUM"
   ]
  },
  {
   "cell_type": "code",
   "execution_count": 10,
   "id": "af693f7b",
   "metadata": {},
   "outputs": [
    {
     "data": {
      "text/plain": [
       "array([12, 12, 27])"
      ]
     },
     "execution_count": 10,
     "metadata": {},
     "output_type": "execute_result"
    }
   ],
   "source": [
    "np.sum(arr,axis=1)"
   ]
  },
  {
   "cell_type": "code",
   "execution_count": 46,
   "id": "f5b4f1d0",
   "metadata": {},
   "outputs": [
    {
     "data": {
      "text/plain": [
       "np.float64(4.0)"
      ]
     },
     "execution_count": 46,
     "metadata": {},
     "output_type": "execute_result"
    }
   ],
   "source": [
    "arr.mean()"
   ]
  },
  {
   "cell_type": "code",
   "execution_count": 47,
   "id": "ffaf6e4c",
   "metadata": {},
   "outputs": [
    {
     "data": {
      "text/plain": [
       "np.float64(1.1547005383792515)"
      ]
     },
     "execution_count": 47,
     "metadata": {},
     "output_type": "execute_result"
    }
   ],
   "source": [
    "arr.std()"
   ]
  },
  {
   "cell_type": "code",
   "execution_count": 48,
   "id": "110145fc",
   "metadata": {},
   "outputs": [
    {
     "data": {
      "text/plain": [
       "np.int64(0)"
      ]
     },
     "execution_count": 48,
     "metadata": {},
     "output_type": "execute_result"
    }
   ],
   "source": [
    "arr.argmax()"
   ]
  },
  {
   "cell_type": "code",
   "execution_count": 49,
   "id": "f7cb2920",
   "metadata": {},
   "outputs": [
    {
     "data": {
      "text/plain": [
       "np.int64(1)"
      ]
     },
     "execution_count": 49,
     "metadata": {},
     "output_type": "execute_result"
    }
   ],
   "source": [
    "arr.argmin()"
   ]
  }
 ],
 "metadata": {
  "kernelspec": {
   "display_name": "base",
   "language": "python",
   "name": "python3"
  },
  "language_info": {
   "codemirror_mode": {
    "name": "ipython",
    "version": 3
   },
   "file_extension": ".py",
   "mimetype": "text/x-python",
   "name": "python",
   "nbconvert_exporter": "python",
   "pygments_lexer": "ipython3",
   "version": "3.13.2"
  }
 },
 "nbformat": 4,
 "nbformat_minor": 5
}
